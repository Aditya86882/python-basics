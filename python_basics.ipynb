{
  "nbformat": 4,
  "nbformat_minor": 0,
  "metadata": {
    "colab": {
      "provenance": []
    },
    "kernelspec": {
      "name": "python3",
      "display_name": "Python 3"
    },
    "language_info": {
      "name": "python"
    }
  },
  "cells": [
    {
      "cell_type": "code",
      "execution_count": null,
      "metadata": {
        "id": "yZuFtSOEll1E"
      },
      "outputs": [],
      "source": []
    },
    {
      "cell_type": "markdown",
      "source": [
        "                               **Theory questions**\n",
        "\n",
        "1. what is python,why is it so populer?\n",
        "          \n",
        "   -Python is a popular, versatile, and easy-to-learn programming language known for its readability and wide range of applications, including data science, web development, and automation. Its simple syntax, extensive libraries, and large community contribute to its popularity.\n",
        " 2. What is an interpreter in Python?\n",
        "  \n",
        "   -A Python interpreter is a program that reads and executes Python code. It translates Python code into machine code that the computer can understand.\n",
        "3. What are pre-defined keywords in Python?\n",
        "   \n",
        "   -Keywords have predefined meanings and uses that cannot be changed. Keywords can't be used as identifiers. Keywords are a part of Python syntax and can't be altered. They are case-sensitive. All keywords must be in lowercase except True and False.\n",
        "4. Can keywords be used as variable names?\n",
        "\n",
        "   -No, keywords cannot be used as variable names in most programming languages because keywords are reserved words with predefined meanings, and using them as variable names would lead to syntax errors.\n",
        "5. What is mutability in Python?\n",
        "\n",
        "   -In Python, mutability refers to an object's ability to be changed after it's created; mutable objects can be modified in place, while immutable objects cannot.\n",
        "6. Why are lists mutable, but tuples are immutable?\n",
        "\n",
        "   -Tuples and lists are the same in every way except two: tuples use parentheses instead of square brackets, and the items in tuples cannot be modified (but the items in lists can be modified). We often call lists mutable (meaning they can be changed) and tuples immutable (meaning they cannot be changed).\n",
        "7. What is the difference between “==” and “is” operators in Python?\n",
        "\n",
        "   -Difference between == and is operators in Python\n",
        "     The '==' is known as the equality operator. The 'is' is known as the identity operator. The == operator helps us compare the equality of objects. The is operator helps us check whether different variables point towards a similar object in the memory.\n",
        "8. What are logical operators in Python?\n",
        "   \n",
        "   -In Python, logical operators (and, or, not) are used to combine or modify Boolean values (True or False) and determine the overall truth value of a condition.\n",
        "9. What is type casting in Python?\n",
        "\n",
        "   -Type casting is a method used to change the data type of a variable to match the operation you want to perform. In Python, you can use built-in functions like int() , str() , float() , etc., to achieve this.\n",
        "10. What is the difference between implicit and explicit type casting?\n",
        "\n",
        "   -Implicit type casting (also known as widening) happens automatically by the compiler when converting a smaller data type to a larger one, while explicit type casting (also known as narrowing or type casting) requires the programmer to manually convert a larger data type to a smaller one.\n",
        "11. What is the purpose of conditional statements in Python?\n",
        "\n",
        "   -Conditional statements in Python allow you to control the flow of your program by running or skipping code based on conditions. This can make your code more efficient and readable.\n",
        "12. How does the elif statement work?\n",
        "\n",
        "   -The “elif” keyword in Python, stands for “else if”. It can be used in conditional statements to check for multiple conditions. For example, if the first condition is false, it moves on to the next “elif” statement to check if that condition is true.\n",
        "13.  What is the difference between for and while loops?\n",
        "\n",
        "   -The key difference between for and while loops is their purpose: for loops are used for iterating over a sequence or a known number of times, while while loops repeat until a condition is met, making them suitable for situations where the number of iterations is not predetermined.\n",
        "14. Describe a scenario where a while loop is more suitable than a for\n",
        "     loop.\n",
        "\n",
        "   -In programming, for loops are best used when you know the number of iterations ahead of time, whereas a while loop is best used when you don't know the number of iterations in advance. Both methods can help you iterate through your code.\n",
        "\n",
        "\n",
        "\n",
        "                             **Practical questions**\n",
        "                             "
      ],
      "metadata": {
        "id": "G-YaRJoPl6S0"
      }
    },
    {
      "cell_type": "code",
      "source": [
        "# Write a Python program to print \"Hello, World!\n",
        "print(\"Hello, world!\")"
      ],
      "metadata": {
        "colab": {
          "base_uri": "https://localhost:8080/"
        },
        "id": "C7xuqw7_rBSK",
        "outputId": "1ed2ce73-d4ee-4741-83c2-dfc22465c6d9"
      },
      "execution_count": null,
      "outputs": [
        {
          "output_type": "stream",
          "name": "stdout",
          "text": [
            "Hello, world!\n"
          ]
        }
      ]
    },
    {
      "cell_type": "code",
      "source": [
        "# Write a Python program that displays your name and age.\n",
        "name = \"Aditya gour\"\n",
        "age = 22\n",
        "\n",
        "print(f\"My name is {name} and I am {age} years old.\")\n"
      ],
      "metadata": {
        "colab": {
          "base_uri": "https://localhost:8080/"
        },
        "id": "2o_nMh7IrdaN",
        "outputId": "c32f9396-d474-4693-efff-2a777f5d020c"
      },
      "execution_count": null,
      "outputs": [
        {
          "output_type": "stream",
          "name": "stdout",
          "text": [
            "My name is Aditya gour and I am 22 years old.\n"
          ]
        }
      ]
    },
    {
      "cell_type": "code",
      "source": [
        "# Write code to print all the pre-defined keywords in Python using the keyword library.\n",
        "import keyword\n",
        "\n",
        "keyword.kwlist"
      ],
      "metadata": {
        "colab": {
          "base_uri": "https://localhost:8080/"
        },
        "id": "h4u7tYGPr5SC",
        "outputId": "be046430-aca1-47f3-9da2-791ca8e04a92"
      },
      "execution_count": null,
      "outputs": [
        {
          "output_type": "execute_result",
          "data": {
            "text/plain": [
              "['False',\n",
              " 'None',\n",
              " 'True',\n",
              " 'and',\n",
              " 'as',\n",
              " 'assert',\n",
              " 'async',\n",
              " 'await',\n",
              " 'break',\n",
              " 'class',\n",
              " 'continue',\n",
              " 'def',\n",
              " 'del',\n",
              " 'elif',\n",
              " 'else',\n",
              " 'except',\n",
              " 'finally',\n",
              " 'for',\n",
              " 'from',\n",
              " 'global',\n",
              " 'if',\n",
              " 'import',\n",
              " 'in',\n",
              " 'is',\n",
              " 'lambda',\n",
              " 'nonlocal',\n",
              " 'not',\n",
              " 'or',\n",
              " 'pass',\n",
              " 'raise',\n",
              " 'return',\n",
              " 'try',\n",
              " 'while',\n",
              " 'with',\n",
              " 'yield']"
            ]
          },
          "metadata": {},
          "execution_count": 4
        }
      ]
    },
    {
      "cell_type": "code",
      "source": [
        "# Write a program that checks if a given word is a Python keyword\n",
        "\n",
        "word_to_check = \"if\"\n",
        "if is_keyword(word_to_check):\n",
        "    print(f\"'{word_to_check}' is a Python keyword.\")\n",
        "else:\n",
        "    print(f\"'{word_to_check}' is not a Python keyword.\")\n",
        "\n"
      ],
      "metadata": {
        "colab": {
          "base_uri": "https://localhost:8080/"
        },
        "id": "l303b_L0sJIH",
        "outputId": "864a0903-e1e1-409e-bb2b-3fd45421d0a5"
      },
      "execution_count": 8,
      "outputs": [
        {
          "output_type": "stream",
          "name": "stdout",
          "text": [
            "'if' is a Python keyword.\n"
          ]
        }
      ]
    },
    {
      "cell_type": "code",
      "source": [
        "# 5.Create a list and tuple in Python, and demonstrate how attempting to change an element works differently for each.\n",
        "# Create a list\n",
        "my_list = [1, 2, 3, 4, 5]\n",
        "\n",
        "# Create a tuple\n",
        "my_tuple = (1, 2, 3, 4, 5)\n",
        "\n",
        "# Attempt to change an element in the list\n",
        "my_list[0] = 10\n",
        "print(my_list)\n",
        "\n",
        "# Attempt to change an element in the tuple (this will raise a TypeError)\n",
        "try:\n",
        "    my_tuple[0] = 10\n",
        "except TypeError as e:\n",
        "    print(\"Error:\", e)\n"
      ],
      "metadata": {
        "colab": {
          "base_uri": "https://localhost:8080/"
        },
        "id": "WNfwqGrvsjV5",
        "outputId": "20c41453-b36a-4528-e083-7c008b4c3993"
      },
      "execution_count": 9,
      "outputs": [
        {
          "output_type": "stream",
          "name": "stdout",
          "text": [
            "[10, 2, 3, 4, 5]\n",
            "Error: 'tuple' object does not support item assignment\n"
          ]
        }
      ]
    },
    {
      "cell_type": "code",
      "source": [
        "# 6.Write a function to demonstrate the behavior of mutable and immutable arguments.\n",
        "\n",
        "def demonstrate_mutability(mutable_arg, immutable_arg):\n",
        "    \"\"\"Demonstrates the behavior of mutable and immutable arguments in Python.\n",
        "    \"\"\"\n",
        "\n",
        "    mutable_arg.append(4)  # Modifies the original list\n",
        "    immutable_arg += 1  # Creates a new integer object\n",
        "\n",
        "    print(\"Inside function:\", mutable_arg, immutable_arg)\n",
        "\n",
        "\n",
        "# Example Usage\n",
        "my_list = [1, 2, 3]\n",
        "my_int = 10\n",
        "\n",
        "demonstrate_mutability(my_list, my_int)\n",
        "print(\"Outside function:\", my_list, my_int)"
      ],
      "metadata": {
        "id": "H3Ic7Vm-s4nU",
        "colab": {
          "base_uri": "https://localhost:8080/"
        },
        "outputId": "37860105-d0f5-40ef-f830-b04564f0410e"
      },
      "execution_count": 10,
      "outputs": [
        {
          "output_type": "stream",
          "name": "stdout",
          "text": [
            "Inside function: [1, 2, 3, 4] 11\n",
            "Outside function: [1, 2, 3, 4] 10\n"
          ]
        }
      ]
    },
    {
      "cell_type": "code",
      "source": [
        "# 7 is same as 6"
      ],
      "metadata": {
        "id": "bJbkoXPiibNN"
      },
      "execution_count": null,
      "outputs": []
    },
    {
      "cell_type": "code",
      "source": [
        "# 8. Write a program to demonstrate the use of logical operators.\n",
        "\n",
        "# AND operator\n",
        "print(True and True)   # Output: True\n",
        "print(True and False)  # Output: False\n",
        "print(False and True)  # Output: False\n",
        "print(False and False) # Output: False\n",
        "\n",
        "# OR operator\n",
        "print(True or True)    # Output: True\n",
        "print(True or False)   # Output: True\n",
        "print(False or True)   # Output: True\n",
        "print(False or False)  # Output: False\n",
        "\n",
        "# NOT operator\n",
        "print(not True)   # Output: False\n",
        "print(not False)  # Output: True\n",
        "\n",
        "# Example with variables\n",
        "x = 10\n",
        "y = 5\n",
        "z = 20\n",
        "\n",
        "# Combining logical operators\n",
        "print((x > y) and (z > x))  # Output: True (10 > 5 is True and 20 > 10 is True)\n",
        "print((x < y) or (z > y))   # Output: True (10 < 5 is False but 20 > 5 is True)\n",
        "print(not (x == y))        # Output: True (10 == 5 is False, so not False is True)\n",
        "\n",
        "\n"
      ],
      "metadata": {
        "colab": {
          "base_uri": "https://localhost:8080/"
        },
        "id": "-_R2xOykteub",
        "outputId": "e61fec75-7a0f-4cc2-efa7-fdfa5c4d1e54"
      },
      "execution_count": null,
      "outputs": [
        {
          "output_type": "stream",
          "name": "stdout",
          "text": [
            "True\n",
            "False\n",
            "False\n",
            "False\n",
            "True\n",
            "True\n",
            "True\n",
            "False\n",
            "False\n",
            "True\n",
            "True\n",
            "True\n",
            "True\n"
          ]
        }
      ]
    },
    {
      "cell_type": "code",
      "source": [
        "# 9.0 Write a Python program to convert user input from string to integer, float, and boolean types.\n",
        "\n",
        "user_input = input(\"Enter the value: \")\n",
        "int_value = int(user_input)\n",
        "float_value = float(user_input)\n",
        "bool_value = bool(user_input)\n",
        "\n",
        "print(int_value)\n",
        "print(float_value)\n",
        "print(bool_value)"
      ],
      "metadata": {
        "colab": {
          "base_uri": "https://localhost:8080/"
        },
        "id": "3-dzmN2PqrgZ",
        "outputId": "61d210e9-5b0f-428f-ab43-68462072de6a"
      },
      "execution_count": 24,
      "outputs": [
        {
          "output_type": "stream",
          "name": "stdout",
          "text": [
            "Enter the value: 8788\n",
            "8788\n",
            "8788.0\n",
            "True\n"
          ]
        }
      ]
    },
    {
      "cell_type": "code",
      "source": [
        "# 10.Write code to demonstrate type casting with list elements.\n",
        "# lets take list\n",
        "\n",
        "l = [1,2,3,4,5,7,9]\n",
        "print(type(l))\n",
        "l[0] = \"darshan\"\n",
        "print(l)\n",
        "print(type(l))\n"
      ],
      "metadata": {
        "colab": {
          "base_uri": "https://localhost:8080/"
        },
        "id": "EzvZn3MxrkoU",
        "outputId": "c18e388c-960e-494b-d3a2-f2d045ec5eda"
      },
      "execution_count": 49,
      "outputs": [
        {
          "output_type": "stream",
          "name": "stdout",
          "text": [
            "<class 'list'>\n",
            "['darshan', 2, 3, 4, 5, 7, 9]\n",
            "<class 'list'>\n"
          ]
        }
      ]
    },
    {
      "cell_type": "code",
      "source": [
        "# 11.Write a program that checks if a number is positive, negative, or zero.\n",
        "\n",
        "num = 100\n",
        "if num > 0:\n",
        "  print(\"number is positive\")\n",
        "elif num < 0:\n",
        "  print(\"number is negative\")\n",
        "else:\n",
        "  print(\"number is zero\")\n"
      ],
      "metadata": {
        "colab": {
          "base_uri": "https://localhost:8080/"
        },
        "id": "9eWL3YckwIVb",
        "outputId": "60deb2d3-39e9-4e04-b838-4c3bcaf1a4e7"
      },
      "execution_count": 55,
      "outputs": [
        {
          "output_type": "stream",
          "name": "stdout",
          "text": [
            "number is positive\n"
          ]
        }
      ]
    },
    {
      "cell_type": "code",
      "source": [
        "# 12. Write a for loop to print numbers from 1 to 10.\n",
        "\n",
        "for i in range(1,11):\n",
        "  print(i)\n",
        "\n"
      ],
      "metadata": {
        "colab": {
          "base_uri": "https://localhost:8080/"
        },
        "id": "IJ_cveJHxNXG",
        "outputId": "572a9078-ceae-4cf4-a8d6-12cb17a8b416"
      },
      "execution_count": 59,
      "outputs": [
        {
          "output_type": "stream",
          "name": "stdout",
          "text": [
            "1\n",
            "2\n",
            "3\n",
            "4\n",
            "5\n",
            "6\n",
            "7\n",
            "8\n",
            "9\n",
            "10\n"
          ]
        }
      ]
    },
    {
      "cell_type": "code",
      "source": [
        "# 13.Write a Python program to find the sum of all even numbers between 1 and 500.\n",
        "\n",
        "sum_of_evens = 0\n",
        "for i in range(2, 501, 2):\n",
        "    sum_of_evens += i\n",
        "\n",
        "sum_of_evens"
      ],
      "metadata": {
        "colab": {
          "base_uri": "https://localhost:8080/"
        },
        "id": "TL8WxXh5yFyi",
        "outputId": "4bccf4b3-436e-472b-9a8c-520f1829be68"
      },
      "execution_count": 70,
      "outputs": [
        {
          "output_type": "execute_result",
          "data": {
            "text/plain": [
              "62750"
            ]
          },
          "metadata": {},
          "execution_count": 70
        }
      ]
    },
    {
      "cell_type": "code",
      "source": [
        "# 14.Write a program to reverse a string using a while loop.\n",
        "string_to_reverse = \"darshan\"\n",
        "reversed_string = reverse_string_while(string_to_reverse)\n",
        "print(reversed_string)\n"
      ],
      "metadata": {
        "colab": {
          "base_uri": "https://localhost:8080/"
        },
        "id": "CjUptaIkzo8N",
        "outputId": "331b171a-97e2-45bc-ec43-e31081eef505"
      },
      "execution_count": 76,
      "outputs": [
        {
          "output_type": "stream",
          "name": "stdout",
          "text": [
            "nahsrad\n"
          ]
        }
      ]
    },
    {
      "cell_type": "code",
      "source": [
        "# prompt: 0 Write a Python program to calculate the factorial of a number provided by the user using a while loop\n",
        "\n",
        "def factorial_while(n):\n",
        "    if n < 0:\n",
        "        return \"Factorial is not defined for negative numbers\"\n",
        "    elif n == 0:\n",
        "        return 1\n",
        "    else:\n",
        "        fact = 1\n",
        "        i = 1\n",
        "        while i <= n:\n",
        "            fact *= i\n",
        "            i += 1\n",
        "        return fact\n",
        "\n",
        "number = int(input(\"Enter a non-negative integer: \"))\n",
        "result = factorial_while(number)\n",
        "print(f\"The factorial of {number} is {result}\")\n"
      ],
      "metadata": {
        "colab": {
          "base_uri": "https://localhost:8080/"
        },
        "id": "YdAopVX_1fPn",
        "outputId": "39c4a4b6-b545-4ff8-936d-547e5540c519"
      },
      "execution_count": 77,
      "outputs": [
        {
          "output_type": "stream",
          "name": "stdout",
          "text": [
            "Enter a non-negative integer: 767\n",
            "The factorial of 767 is 2375260959611012304762670562014361042438984145402220668778622781714011973204885586721482102170138158017912909951749136618152622129665396063239798755672359045046791829533325912027294542599629170699575537786862911468691373814785865095468673736329346200056801571256348847559429853735176210547154678930278110511566678722555512623148840981131519045028867092173070167152372046754942891599061407539992464813252446967500735310145266296308132663082347129938078910331766655962259524538226270268104901185069573299029741119207595046240433933652690636018226038180892363217411319419952117838233703303843335265621971744866701765360122693268656816241096593766867249468004712749335136620049127184532630665619974867030240370421565462309102083926831653585488121267996060830575065845534255204509489976997933497386133447457547860847341819440144231159324744764530120855729783651147993024383690557821638843032047063145228296241119775491129809030007423558887873049500258661443702180595441168549636198954131395416728355849072111498959229220199120476066753251229458761083689692200991808920078198442112854567368210648292329483868634825497591200676735959800089399606277491034162279182789675964205461407646146661046051865013633074481520637074466035945061616169856730344083745794661432890037380035825505170435051667885361002009644379180722347858564162542575422949400582115109252055775393792922796353732115146238331643390217113530018198252136416847295453203475440225315019861541206341202256543805373542358516244106639143943315487105537971115211314630563055351227453941395167633007855277738336583656455370724924172069333701790302842920421216455014139794193231455016709118778441998062756692085736002862854169040545221003182080000000000000000000000000000000000000000000000000000000000000000000000000000000000000000000000000000000000000000000000000000000000000000000000000000000000000000000000000000000000000000000000\n"
          ]
        }
      ]
    }
  ]
}